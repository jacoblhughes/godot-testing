{
 "cells": [
  {
   "cell_type": "code",
   "execution_count": 10,
   "id": "84443250",
   "metadata": {},
   "outputs": [
    {
     "name": "stdout",
     "output_type": "stream",
     "text": [
      "C:\\Users\\hughe\\Jacob Hughes\\Developer\\Godot\\godot-testing\\assets\\Untitled Folder\n"
     ]
    },
    {
     "ename": "AttributeError",
     "evalue": "module 'mido' has no attribute 'note_to_name'",
     "output_type": "error",
     "traceback": [
      "\u001b[1;31m---------------------------------------------------------------------------\u001b[0m",
      "\u001b[1;31mAttributeError\u001b[0m                            Traceback (most recent call last)",
      "Input \u001b[1;32mIn [10]\u001b[0m, in \u001b[0;36m<cell line: 11>\u001b[1;34m()\u001b[0m\n\u001b[0;32m     12\u001b[0m \u001b[38;5;28;01mfor\u001b[39;00m msg \u001b[38;5;129;01min\u001b[39;00m track:\n\u001b[0;32m     13\u001b[0m     \u001b[38;5;28;01mif\u001b[39;00m msg\u001b[38;5;241m.\u001b[39mtype \u001b[38;5;241m==\u001b[39m \u001b[38;5;124m'\u001b[39m\u001b[38;5;124mnote_on\u001b[39m\u001b[38;5;124m'\u001b[39m:\n\u001b[1;32m---> 14\u001b[0m         note \u001b[38;5;241m=\u001b[39m \u001b[43mmido\u001b[49m\u001b[38;5;241;43m.\u001b[39;49m\u001b[43mnote_to_name\u001b[49m(msg\u001b[38;5;241m.\u001b[39mnote)\n\u001b[0;32m     15\u001b[0m         duration \u001b[38;5;241m=\u001b[39m msg\u001b[38;5;241m.\u001b[39mtime\n",
      "\u001b[1;31mAttributeError\u001b[0m: module 'mido' has no attribute 'note_to_name'"
     ]
    }
   ],
   "source": [
    "import mido\n",
    "import os\n",
    "\n",
    "# get the current working directory\n",
    "current_working_directory = os.getcwd()\n",
    "\n",
    "# print output to the console\n",
    "print(current_working_directory)\n",
    "midi_file = mido.MidiFile('C:\\\\Users\\\\hughe\\\\Jacob Hughes\\\\Developer\\\\Godot\\\\godot-testing\\\\assets\\\\Untitled Folder\\\\midi_to_scrape\\\\midi.mid')\n",
    "\n",
    "for track in midi_file.tracks:\n",
    "    for msg in track:\n",
    "        if msg.type == 'note_on':\n",
    "            note = mido.note_to_name(msg.note)\n",
    "            duration = msg.time  # This will need to be converted to your duration format\n",
    "            # Add the note and duration to your data structure\n"
   ]
  },
  {
   "cell_type": "code",
   "execution_count": null,
   "id": "6a763aaf",
   "metadata": {},
   "outputs": [],
   "source": []
  }
 ],
 "metadata": {
  "kernelspec": {
   "display_name": "Python 3 (ipykernel)",
   "language": "python",
   "name": "python3"
  },
  "language_info": {
   "codemirror_mode": {
    "name": "ipython",
    "version": 3
   },
   "file_extension": ".py",
   "mimetype": "text/x-python",
   "name": "python",
   "nbconvert_exporter": "python",
   "pygments_lexer": "ipython3",
   "version": "3.9.12"
  }
 },
 "nbformat": 4,
 "nbformat_minor": 5
}
